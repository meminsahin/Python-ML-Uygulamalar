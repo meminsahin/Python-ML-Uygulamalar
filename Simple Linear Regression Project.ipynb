{
 "cells": [
  {
   "cell_type": "markdown",
   "metadata": {},
   "source": [
    "# Çalışan Deneyimi ve Maaş Analizi\n",
    "\n",
    "Bu Jupyter Notebook, çalışanların yıllara göre deneyimlerini ve maaşlarını içeren bir veri setinin analizini içermektedir. Veri seti, çalışanların deneyim yıllarına göre maaş dağılımını göstermektedir. Aşağıda, veri setinin genel bir özeti ve bazı temel istatistiksel özetler sunulmuştur."
   ]
  },
  {
   "cell_type": "markdown",
   "metadata": {},
   "source": [
    "### Veri Seti"
   ]
  },
  {
   "cell_type": "markdown",
   "metadata": {},
   "source": [
    " * https://www.kaggle.com/datasets/abhishek14398/salary-dataset-simple-linear-regression/data"
   ]
  },
  {
   "cell_type": "markdown",
   "metadata": {},
   "source": [
    "### Veri Setinin İçe Aktarılması"
   ]
  },
  {
   "cell_type": "code",
   "execution_count": 2,
   "metadata": {},
   "outputs": [
    {
     "data": {
      "text/html": [
       "<div>\n",
       "<style scoped>\n",
       "    .dataframe tbody tr th:only-of-type {\n",
       "        vertical-align: middle;\n",
       "    }\n",
       "\n",
       "    .dataframe tbody tr th {\n",
       "        vertical-align: top;\n",
       "    }\n",
       "\n",
       "    .dataframe thead th {\n",
       "        text-align: right;\n",
       "    }\n",
       "</style>\n",
       "<table border=\"1\" class=\"dataframe\">\n",
       "  <thead>\n",
       "    <tr style=\"text-align: right;\">\n",
       "      <th></th>\n",
       "      <th>YearsExperience</th>\n",
       "      <th>Salary</th>\n",
       "    </tr>\n",
       "  </thead>\n",
       "  <tbody>\n",
       "    <tr>\n",
       "      <th>0</th>\n",
       "      <td>1.2</td>\n",
       "      <td>39344.0</td>\n",
       "    </tr>\n",
       "    <tr>\n",
       "      <th>1</th>\n",
       "      <td>1.4</td>\n",
       "      <td>46206.0</td>\n",
       "    </tr>\n",
       "    <tr>\n",
       "      <th>2</th>\n",
       "      <td>1.6</td>\n",
       "      <td>37732.0</td>\n",
       "    </tr>\n",
       "    <tr>\n",
       "      <th>3</th>\n",
       "      <td>2.1</td>\n",
       "      <td>43526.0</td>\n",
       "    </tr>\n",
       "    <tr>\n",
       "      <th>4</th>\n",
       "      <td>2.3</td>\n",
       "      <td>39892.0</td>\n",
       "    </tr>\n",
       "  </tbody>\n",
       "</table>\n",
       "</div>"
      ],
      "text/plain": [
       "   YearsExperience   Salary\n",
       "0              1.2  39344.0\n",
       "1              1.4  46206.0\n",
       "2              1.6  37732.0\n",
       "3              2.1  43526.0\n",
       "4              2.3  39892.0"
      ]
     },
     "execution_count": 2,
     "metadata": {},
     "output_type": "execute_result"
    }
   ],
   "source": [
    "import pandas as pd\n",
    "df = pd.read_csv(\"./datasets/Salary_dataset.csv\")\n",
    "df = df.iloc[:,1:len(df)]\n",
    "df.head()"
   ]
  },
  {
   "cell_type": "markdown",
   "metadata": {},
   "source": [
    "### Veri Setine Bir Bakış"
   ]
  },
  {
   "cell_type": "code",
   "execution_count": 7,
   "metadata": {},
   "outputs": [],
   "source": [
    "def check_df(dataframe, head=5):\n",
    "    print(\"##################### Shape #####################\")\n",
    "    print(dataframe.shape)\n",
    "    print(\"##################### Types #####################\")\n",
    "    print(dataframe.dtypes)\n",
    "    print(\"##################### Head #####################\")\n",
    "    print(dataframe.head(head))\n",
    "    print(\"##################### Tail #####################\")\n",
    "    print(dataframe.tail(head))\n",
    "    print(\"##################### NA #####################\")\n",
    "    print(dataframe.isnull().sum())\n",
    "    print(\"##################### Quantiles #####################\")\n",
    "    print(dataframe.describe([0, 0.05, 0.50, 0.95, 0.99, 1]).T)"
   ]
  },
  {
   "cell_type": "code",
   "execution_count": 5,
   "metadata": {
    "collapsed": true
   },
   "outputs": [
    {
     "name": "stdout",
     "output_type": "stream",
     "text": [
      "##################### Shape #####################\n",
      "(30, 2)\n",
      "##################### Types #####################\n",
      "YearsExperience    float64\n",
      "Salary             float64\n",
      "dtype: object\n",
      "##################### Head #####################\n",
      "   YearsExperience   Salary\n",
      "0              1.2  39344.0\n",
      "1              1.4  46206.0\n",
      "2              1.6  37732.0\n",
      "3              2.1  43526.0\n",
      "4              2.3  39892.0\n",
      "##################### Tail #####################\n",
      "    YearsExperience    Salary\n",
      "25              9.1  105583.0\n",
      "26              9.6  116970.0\n",
      "27              9.7  112636.0\n",
      "28             10.4  122392.0\n",
      "29             10.6  121873.0\n",
      "##################### NA #####################\n",
      "YearsExperience    0\n",
      "Salary             0\n",
      "dtype: int64\n",
      "##################### Quantiles #####################\n",
      "                 count          mean           std      min       0%  \\\n",
      "YearsExperience   30.0      5.413333      2.837888      1.2      1.2   \n",
      "Salary            30.0  76004.000000  27414.429785  37732.0  37732.0   \n",
      "\n",
      "                       5%      50%         95%         99%      100%       max  \n",
      "YearsExperience      1.49      4.8      10.085      10.542      10.6      10.6  \n",
      "Salary           39590.60  65238.0  119666.650  122241.490  122392.0  122392.0  \n"
     ]
    }
   ],
   "source": [
    "check_df(df)"
   ]
  },
  {
   "cell_type": "markdown",
   "metadata": {},
   "source": [
    "#### Veri Seti Özeti\n",
    "\n",
    "- **Shape:** Veri seti 30 gözlem (satır) ve 2 sütun içerir: `YearsExperience` ve `Salary`.\n",
    "- **Types:** Her iki sütun da `float64` tipindedir, yani veriler ondalıklı sayılardan oluşur.\n",
    "- **Eksik Veriler:** Veri setinde eksik veri bulunmamaktadır (`YearsExperience` ve `Salary` sütunlarında 0 eksik değer).\n",
    "\n",
    "####  İlk ve Son Gözlemler\n",
    "\n",
    "- **İlk Beş Gözlem:**\n",
    "  - `YearsExperience` 1.2'den 2.3'e kadar değişir.\n",
    "  - `Salary` 39344'den 39892'ye kadar değişir.\n",
    "\n",
    "- **Son Beş Gözlem:**\n",
    "  - `YearsExperience` 9.1'den 10.6'ya kadar değişir.\n",
    "  - `Salary` 105583'den 121873'e kadar değişir.\n",
    "\n",
    "####  İstatistiksel Özet\n",
    "\n",
    "- **Ortalama ve Standart Sapma:**\n",
    "  - Ortalama deneyim yılları: ~5.41\n",
    "  - Ortalama maaş: ~76004\n",
    "  - Deneyim yıllarının standart sapması: ~2.84\n",
    "  - Maaşların standart sapması: ~27414\n",
    "\n",
    "- **Minimum ve Maksimum Değerler:**\n",
    "  - Deneyim yılları için min/max: 1.2 / 10.6\n",
    "  - Maaş için min/max: 37732 / 122392\n",
    "\n",
    "- **Medyan (50%):**\n",
    "  - Deneyim yılları: 4.8\n",
    "  - Maaş: 65238\n",
    "\n",
    "- **Kuantiller:**\n",
    "  - %5 ve %95 kuantilleri deneyim ve maaş dağılımını gösterir, örneğin %95 kuantilinde maaş 119666.65'tir.\n",
    "\n",
    "####  Sonuç\n",
    "\n",
    "Bu analiz, deneyim yıllarının artışı ile maaşların da artış gösterdiği eğilimini ortaya koymaktadır. Veri seti, eksik veri içermediği için analiz için temiz ve kullanıma hazırdır. Maaşların geniş bir aralıkta dağıldığını gösteren standart sapma değeri, farklı deneyim seviyeleri arasında önemli maaş farklılıklarının olduğunu işaret etmektedir.\n"
   ]
  },
  {
   "cell_type": "markdown",
   "metadata": {},
   "source": [
    "###  Deneyim ve Maaş Arasındaki İlişki"
   ]
  },
  {
   "cell_type": "code",
   "execution_count": 9,
   "metadata": {},
   "outputs": [
    {
     "data": {
      "image/png": "[encoded data removed]",
      "text/plain": [
       "<Figure size 720x432 with 1 Axes>"
      ]
     },
     "metadata": {
      "needs_background": "light"
     },
     "output_type": "display_data"
    }
   ],
   "source": [
    "import matplotlib.pyplot as plt\n",
    "\n",
    "plt.figure(figsize=(10, 6))\n",
    "plt.scatter(df['YearsExperience'], df['Salary'], color='blue', label='Gerçek Maaş')\n",
    "plt.title('Deneyim Yılları vs Maaş')\n",
    "plt.xlabel('Deneyim Yılları')\n",
    "plt.ylabel('Maaş')\n",
    "plt.legend()\n",
    "plt.grid(True)\n",
    "plt.show()"
   ]
  },
  {
   "cell_type": "markdown",
   "metadata": {},
   "source": [
    "#### Deneyim Yılları ve Gerçek Maaş İlişkisi\n",
    "\n",
    "Bu scatter plot, \"Deneyim Yılları\" ile \"Gerçek Maaş\" arasındaki ilişkiyi göstermektedir. Grafikten çıkarımlarım şunlardır:\n",
    "\n",
    "- **Pozitif İlişki**: Grafik, deneyim yıllarının artışıyla maaşın arttığını gösteriyor, bu da deneyimin maaş üzerinde olumlu bir etkisi olduğunu düşündürüyor.\n",
    "- **Varyans**: Her deneyim seviyesinde maaş dağılımındaki farklılıklar, maaşın yalnızca deneyimle değil, diğer faktörlerle de değişebileceğini gösteriyor.\n",
    "- **Outlierlar (Aykırı Değerler)**: Özellikle 8 yıllık deneyime sahip bireylerde görülen yüksek maaşlar, özel becerilere veya nadir uzmanlığa işaret edebilir.\n",
    "- **Deneyim Sınırı**: 10 yıllık deneyimden sonra maaşlarda gözlemlenen önemli artış, bu deneyim seviyesinden sonra uzmanlık veya yönetici pozisyonlarının etkisinin daha belirgin olabileceğini gösteriyor.\n",
    "\n",
    "Bu gözlemler, çalışanların maaşlarının belirlenmesinde deneyimin önemli bir faktör olduğunu, ancak diğer pek çok değişkenin de rol oynadığını göstermektedir.\n"
   ]
  },
  {
   "cell_type": "markdown",
   "metadata": {},
   "source": [
    "### Basit Doğrusal Regresyon Modelinin Kurulması"
   ]
  },
  {
   "cell_type": "code",
   "execution_count": 11,
   "metadata": {},
   "outputs": [],
   "source": [
    "from sklearn.model_selection import train_test_split\n",
    "from sklearn.linear_model import LinearRegression\n",
    "import numpy as np"
   ]
  },
  {
   "cell_type": "code",
   "execution_count": 12,
   "metadata": {},
   "outputs": [
    {
     "data": {
      "text/plain": [
       "(0.9645401573418149, 0.9024461774180497)"
      ]
     },
     "execution_count": 12,
     "metadata": {},
     "output_type": "execute_result"
    }
   ],
   "source": [
    "# Bağımsız ve bağımlı değişkenleri ayarlama\n",
    "X = df[[\"YearsExperience\"]]\n",
    "y = df[\"Salary\"]\n",
    "\n",
    "# Veri setini eğitim ve test setlerine bölme\n",
    "X_train, X_test, y_train, y_test = train_test_split(X, y, test_size=0.2, random_state=42)\n",
    "\n",
    "# Doğrusal Regresyon modelini oluşturma ve eğitme\n",
    "model = LinearRegression()\n",
    "model.fit(X_train, y_train)\n",
    "\n",
    "# Eğitim seti ve test seti üzerinde modelin performansını değerlendirme\n",
    "training_score = model.score(X_train, y_train)\n",
    "test_score = model.score(X_test, y_test)\n",
    "\n",
    "training_score, test_score"
   ]
  },
  {
   "cell_type": "markdown",
   "metadata": {},
   "source": [
    "#### Veri Setinin Bölünmesi\n",
    "\n",
    "Veri setimizi, modelimizi eğitmek için %80'ini eğitim seti ve %20'sini test seti olacak şekilde böldük. Bu bölme işlemi, modelin genelleştirme yeteneğini daha iyi değerlendirmemize olanak tanır.\n",
    "\n",
    "#### Model Eğitimi \n",
    "\n",
    "Doğrusal regresyon modelimizi eğitim seti üzerinde eğittik. Eğitim sürecinde, model tecrübe yıllarına göre maaş tahminleri yapmak üzere bağımsız değişkenlerle bir ilişki kurdu.\n",
    "\n",
    "#### Model Performansı\n",
    "\n",
    "Modelimizin performansını değerlendirmek için, hem eğitim seti hem de test seti üzerinde R^2 skorunu hesapladık.\n",
    "\n",
    "- Eğitim Seti R^2 Skoru: `0.9645`\n",
    "- Test Seti R^2 Skoru: `0.9024`\n",
    "\n",
    "#### Sonuçlar \n",
    "\n",
    "Eğitim seti üzerindeki yüksek R^2 skoru (%96.45), modelimizin eğitim verilerine iyi bir şekilde uyum sağladığını göstermektedir. Test seti üzerindeki R^2 skoru (%90.24) ise modelimizin görmediği verilere uygulandığında da iyi tahminler yapabildiğini gösterir. Bu sonuçlar, modelimizin genel olarak deneyim yıllarına göre maaş tahminlerinde güvenilir olduğunu göstermektedir.\n",
    "\n",
    "Ancak, modelin her iki set üzerindeki performansı arasında bir miktar fark vardır, bu da modelin eğitim verilerine biraz fazla uyum sağladığını (overfitting) gösterebilir. Bu durumu iyileştirmek için, daha fazla veri toplamayı veya modeli düzenlemeyi (regularization) düşünebiliriz."
   ]
  },
  {
   "cell_type": "markdown",
   "metadata": {},
   "source": [
    "### Basit Doğrusal Regresyon Modelinin Tahminleri ve Hata Metrikleri"
   ]
  },
  {
   "cell_type": "code",
   "execution_count": 13,
   "metadata": {},
   "outputs": [
    {
     "data": {
      "text/plain": [
       "{'coefficients': array([9423.81532303]),\n",
       " 'intercept': 24380.20147947369,\n",
       " 'MSE': {'train': 27102249.731261343, 'test': 49830096.855908334},\n",
       " 'MAE': {'train': 4221.046734449734, 'test': 6286.453830757745},\n",
       " 'R^2': {'train': 0.9645401573418148, 'test': 0.9024461774180498}}"
      ]
     },
     "execution_count": 13,
     "metadata": {},
     "output_type": "execute_result"
    }
   ],
   "source": [
    "from sklearn.metrics import mean_squared_error, mean_absolute_error, r2_score\n",
    "\n",
    "# Modelin katsayıları ve y-intercept değeri\n",
    "coefficients = model.coef_\n",
    "intercept = model.intercept_\n",
    "\n",
    "# Tahminler\n",
    "y_pred_train = model.predict(X_train)\n",
    "y_pred_test = model.predict(X_test)\n",
    "\n",
    "# Modelin performansını değerlendiren istatistiksel ölçümler\n",
    "mse_train = mean_squared_error(y_train, y_pred_train)\n",
    "mse_test = mean_squared_error(y_test, y_pred_test)\n",
    "mae_train = mean_absolute_error(y_train, y_pred_train)\n",
    "mae_test = mean_absolute_error(y_test, y_pred_test)\n",
    "r2_train = r2_score(y_train, y_pred_train)\n",
    "r2_test = r2_score(y_test, y_pred_test)\n",
    "\n",
    "{\n",
    "    \"coefficients\": coefficients,\n",
    "    \"intercept\": intercept,\n",
    "    \"MSE\": {\"train\": mse_train, \"test\": mse_test},\n",
    "    \"MAE\": {\"train\": mae_train, \"test\": mae_test},\n",
    "    \"R^2\": {\"train\": r2_train, \"test\": r2_test}\n",
    "}"
   ]
  },
  {
   "cell_type": "markdown",
   "metadata": {},
   "source": [
    "#### Model Değerlendirme Ölçütleri \n",
    "\n",
    "Modelimizin çıktıları, deneyim yıllarının maaş üzerindeki etkisini niceliksel olarak değerlendirmemizi sağlar. Bu bölümde, modelimizin katsayıları, y-intercept, ortalama kare hatası (MSE) ve ortalama mutlak hata (MAE) ölçütlerini inceleyeceğiz.\n",
    "\n",
    "#### Katsayılar (Coefficients)\n",
    "\n",
    "- **Katsayılar (Coefficients):** Modelimizin eğimi, deneyim yıllarının her bir artışı için maaşta beklenen değişikliği temsil eder. Bu durumda, yaklaşık olarak **9423.82** birimdir. Bu, her bir yıl deneyim için maaşın yaklaşık **9423.82** birim artacağını gösterir.\n",
    "\n",
    "#### Y-Intercept (Kesme Noktası)\n",
    "\n",
    "- **Y-Intercept (Kesme Noktası):** Modelimizin y-eksenini kestiği nokta, yaklaşık **24380.20** birimdir. Bu, deneyim süresi sıfır olduğunda beklenen maaşı temsil eder.\n",
    "\n",
    "#### Ortalama Kare Hatası (MSE)\n",
    "\n",
    "- **Ortalama Kare Hatası (MSE):** \n",
    "    - Eğitim seti için **27,102,249.73** birim,\n",
    "    - Test seti için **49,830,096.85** birimdir. \n",
    "MSE, modelin tahminlerinin gerçek değerlerden ne kadar sapma gösterdiğinin bir ölçüsüdür; düşük değerler daha iyi uyumu gösterir.\n",
    "\n",
    "#### Ortalama Mutlak Hata (MAE)\n",
    "\n",
    "- **Ortalama Mutlak Hata (MAE):**\n",
    "    - Eğitim seti için **4221.05** birim,\n",
    "    - Test seti için **6286.45** birimdir. \n",
    "MAE, tahminlerin gerçek değerlerden ortalama olarak ne kadar farklılık gösterdiğini gösterir; düşük değerler modelin daha doğru tahminler yaptığını gösterir.\n",
    "\n",
    "Bu ölçütler, modelimizin genel performansını ve tahminlerinin doğruluğunu değerlendirmede önemli rol oynar. Modelin eğitim ve test setleri üzerindeki MSE ve MAE değerleri, modelin genel olarak iyi performans gösterdiğini ancak test setindeki yüksek hata değerleri nedeniyle bazı iyileştirmelere ihtiyaç duyabileceğini göstermektedir.\n"
   ]
  },
  {
   "cell_type": "markdown",
   "metadata": {},
   "source": [
    "### Model için Varsayım Kontrolleri"
   ]
  },
  {
   "cell_type": "markdown",
   "metadata": {},
   "source": [
    "**Varsayımlar:**\n",
    "  * Hata terimlerinin birbirinden bağımsız olması.\n",
    "  * Hata terimlerinin normal dağılım göstermesi.\n",
    "  * Hata varyansının sabit olması (Homoscedasticity)."
   ]
  },
  {
   "cell_type": "markdown",
   "metadata": {},
   "source": [
    "**1- Hata Terimlerinin Bağımsızlığı**"
   ]
  },
  {
   "cell_type": "code",
   "execution_count": 19,
   "metadata": {},
   "outputs": [
    {
     "data": {
      "text/plain": [
       "2.0260614735007296"
      ]
     },
     "execution_count": 19,
     "metadata": {},
     "output_type": "execute_result"
    }
   ],
   "source": [
    "from statsmodels.stats.stattools import durbin_watson\n",
    "\n",
    "# Eğitim seti üzerinde residuals hesaplama\n",
    "residuals = y_train - y_pred_train\n",
    "\n",
    "# Durbin-Watson testi\n",
    "dw_statistic = durbin_watson(residuals)\n",
    "dw_statistic"
   ]
  },
  {
   "cell_type": "markdown",
   "metadata": {},
   "source": [
    "#### Durbin-Watson İstatistiği\n",
    "\n",
    "**Durbin-Watson istatistiği,** hata terimlerinin (residuals) ardışık bağımsızlığını değerlendirmek için kullanılan bir ölçüttür. Bu istatistik, 0 ile 4 arasında bir değer alır ve şu şekilde yorumlanır:\n",
    " * Değer 2'ye yakınsa, hata terimleri arasında otokorelasyonun olmadığı, yani birbirlerinden bağımsız oldukları kabul edilir.\n",
    " * Değer 2'den önemli ölçüde daha düşükse, pozitif otokorelasyon var demektir.\n",
    " * Değer 2'den önemli ölçüde daha yüksekse, negatif otokorelasyon var demektir.\n",
    "\n",
    "#### Durbin-Watson Testi Sonucu\n",
    "- Bu analizde hesaplanan Durbin-Watson istatistiği 2.0260614735007296 olarak bulunmuştur. Bu değer, hata terimlerinin birbirinden bağımsız olduğunu gösterir, çünkü değer 2'ye çok yakındır. Bu sonuç, modelin hata terimlerinde herhangi bir otokorelasyon olmadığını ve bu açıdan modelin varsayımlarını karşıladığını belirtir. Dolayısıyla, modelin tahminleri arasında gizli bir zaman bağımlılığı olmadığı sonucuna varabiliriz."
   ]
  },
  {
   "cell_type": "markdown",
   "metadata": {},
   "source": [
    "**2-Hata Terimlerinin Normal Dağılım Göstermesi**"
   ]
  },
  {
   "cell_type": "code",
   "execution_count": 25,
   "metadata": {},
   "outputs": [],
   "source": [
    "import matplotlib.pyplot as plt\n",
    "import scipy.stats as stats\n",
    "from scipy.stats import shapiro"
   ]
  },
  {
   "cell_type": "code",
   "execution_count": 22,
   "metadata": {},
   "outputs": [
    {
     "data": {
      "image/png": "[encoded data removed]",
      "text/plain": [
       "<Figure size 576x432 with 1 Axes>"
      ]
     },
     "metadata": {
      "needs_background": "light"
     },
     "output_type": "display_data"
    }
   ],
   "source": [
    "# Q-Q plot çizdirme\n",
    "plt.figure(figsize=(8, 6))\n",
    "stats.probplot(residuals, dist=\"norm\", plot=plt)\n",
    "plt.title('Q-Q Plot of Residuals')\n",
    "plt.show()"
   ]
  },
  {
   "cell_type": "code",
   "execution_count": 27,
   "metadata": {
    "collapsed": true
   },
   "outputs": [
    {
     "data": {
      "text/plain": [
       "'\\nH0: Örnek dağılımı ile teorik normal dağılım arasında istatistiksel olarak anlamlı bir fark yoktur.\\nH1: Örnek dağılımı ile teorik normal dağılım arasında istatistiksel olarak anlamlı bir fark vardır.\\n'"
      ]
     },
     "execution_count": 27,
     "metadata": {},
     "output_type": "execute_result"
    }
   ],
   "source": [
    "#Shapiro-Wilks Testi\n",
    "\"\"\"\n",
    "H0: Örnek dağılımı ile teorik normal dağılım arasında istatistiksel olarak anlamlı bir fark yoktur.\n",
    "H1: Örnek dağılımı ile teorik normal dağılım arasında istatistiksel olarak anlamlı bir fark vardır.\n",
    "\"\"\""
   ]
  },
  {
   "cell_type": "code",
   "execution_count": 26,
   "metadata": {},
   "outputs": [
    {
     "name": "stdout",
     "output_type": "stream",
     "text": [
      "Shapiro-Wilk Test İstatistik Değeri: 0.9534\n",
      "P Değeri: 0.3200\n",
      "Veri normal bir dağılıma sahiptir (H0 reddedilmez)\n"
     ]
    }
   ],
   "source": [
    "# Shapiro-Wilk testi\n",
    "stat, p_value = shapiro(residuals)\n",
    "\n",
    "print(f\"Shapiro-Wilk Test İstatistik Değeri: {stat:.4f}\")\n",
    "print(f\"P Değeri: {p_value:.4f}\")\n",
    "\n",
    "if p_value > 0.05:\n",
    "    print(\"Veri normal bir dağılıma sahiptir (H0 reddedilmez)\")\n",
    "else:\n",
    "    print(\"Veri normal bir dağılıma sahip değildir (H0 reddedilir)\")"
   ]
  },
  {
   "cell_type": "markdown",
   "metadata": {},
   "source": [
    "#### Q-Q Grafiği Analizi\n",
    "\n",
    "Yukarıdaki Q-Q grafiğinde, teorik kuantiller ile gözlenen artıklar arasındaki ilişkiyi görmekteyiz. Grafiğin kırmızı çizgi etrafında düzenli bir şekilde hizalanmış olması, artıkların normal dağılıma oldukça yakın olduğunu göstermektedir. Ancak, herhangi bir sapmanın olup olmadığını daha net belirlemek için grafikteki noktaların kırmızı referans çizgisine olan mesafelerine daha dikkatli bakmak gerekir.\n",
    "\n",
    "#### Shapiro-Wilk Testi Sonuçları\n",
    "\n",
    "Shapiro-Wilk testi uygulandığında, elde edilen istatistik değeri ve p-değeri şu şekildedir:\n",
    "\n",
    "- İstatistik Değeri: (statistik değer buraya eklenecek)\n",
    "- p-Değeri: (p-değeri buraya eklenecek)\n",
    "\n",
    "Eğer p-değeri 0.05'ten büyükse, null hipotezi (H0) reddedilmez ve verilerin normal dağılıma sahip olduğu sonucuna varılır. Eğer p-değeri 0.05'ten küçükse, null hipotezi reddedilir ve verilerin normal dağılımdan gelmediği kabul edilir. \n",
    "\n",
    "Shapiro-Wilk Test İstatistik Değeri: 0.9534\n",
    "P Değeri: 0.3200\n",
    "Veri normal bir dağılıma sahiptir (H0 reddedilmez)"
   ]
  },
  {
   "cell_type": "markdown",
   "metadata": {},
   "source": [
    "**3-Hata Varyansının Sabit Olması (Homoscedasticity)**"
   ]
  },
  {
   "cell_type": "code",
   "execution_count": 30,
   "metadata": {},
   "outputs": [],
   "source": [
    "from statsmodels.stats.diagnostic import het_breuschpagan\n",
    "import statsmodels.api as sm\n",
    "import matplotlib.pyplot as plt"
   ]
  },
  {
   "cell_type": "code",
   "execution_count": 33,
   "metadata": {},
   "outputs": [
    {
     "name": "stdout",
     "output_type": "stream",
     "text": [
      "Breusch-Pagan Test Statistic: 0.9308561276728149\n",
      "Breusch-Pagan p-value: 0.33464055961597056\n",
      "F-statistic: 0.8877154229103197\n",
      "F-test p-value: 0.3563292233273607\n",
      "Hata terimlerinde heteroscedasticity (eş varyanssızlık) yok. Homoscedasticity (eş varyanslılık) varsayımı kabul edilir.\n"
     ]
    }
   ],
   "source": [
    "# Breusch-Pagan testi\n",
    "bp_test_statistic, bp_p_value, f_value, f_p_value = het_breuschpagan(residuals, sm.add_constant(X_train))\n",
    "\n",
    "# Test sonuçlarını yazdır\n",
    "print(f\"Breusch-Pagan Test Statistic: {bp_test_statistic}\")\n",
    "print(f\"Breusch-Pagan p-value: {bp_p_value}\")\n",
    "print(f\"F-statistic: {f_value}\")\n",
    "print(f\"F-test p-value: {f_p_value}\")\n",
    "\n",
    "# Sonuçların yorumlanması\n",
    "if bp_p_value < 0.05:\n",
    "    print(\"Hata terimlerinde heteroscedasticity (eş varyanssızlık) var.\")\n",
    "else:\n",
    "    print(\"Hata terimlerinde heteroscedasticity (eş varyanssızlık) yok. Homoscedasticity (eş varyanslılık) varsayımı kabul edilir.\")"
   ]
  },
  {
   "cell_type": "markdown",
   "metadata": {},
   "source": [
    "#### Breusch-Pagan Testi\n",
    "\n",
    "Breusch-Pagan testi, regresyon modellerinde hata terimlerinin homoskedastisite varsayımını test etmek için kullanılan bir istatistiksel yöntemdir. Homoskedastisite, hata terimlerinin tüm gözlemler boyunca sabit bir varyansa sahip olduğu durumu ifade eder. Eğer hata terimlerinin varyansı, modelin bağımsız değişkenlerine bağlı olarak değişiyorsa, bu durum heteroskedastisite olarak adlandırılır ve çeşitli istatistiksel analizlerin güvenilirliğini azaltabilir.\n",
    "\n",
    "Breusch-Pagan testi, modelin hata terimlerinin karelerini bağımsız değişkenlerin bir fonksiyonu olarak regresyon modeline tabi tutarak çalışır. Eğer bu modeldeki bağımsız değişkenler anlamlıysa, bu, hata terimlerinin varyansının sabit olmadığı ve dolayısıyla heteroskedastik olduğu anlamına gelir.\n",
    "\n",
    "#### Test Çıktıları ve Değerlendirme\n",
    "\n",
    "Breusch-Pagan testinin sonuçları genellikle dört ana değer olarak sunulur:\n",
    "\n",
    "- **Test İstatistiği:** Bu değer genellikle chi-kare dağılımına sahiptir ve büyük değerler, hata terimlerinin varyanslarının bağımsız değişkenlere bağlı olarak değiştiğine, yani heteroskedastisiteye işaret eder.\n",
    "- **p-Değeri:** Test istatistiğinin anlamlılığını değerlendirmek için kullanılır. Genel olarak, p-değeri 0.05'ten küçükse, hata terimlerinin varyansının homoskedastik olmadığı yani heteroskedastisite olduğu sonucuna varılır.\n",
    "- **F-İstatistiği:** Bu, alternatif bir test istatistiği olarak kullanılır ve yine chi-kare dağılımına sahiptir.\n",
    "- **F-Testinin p-Değeri:** F-istatistiğinin anlamlılığını değerlendirmek için kullanılır.\n",
    "\n",
    "#### Verilen Sonuçların Değerlendirilmesi\n",
    "\n",
    "- Test İstatistiği: 0.9308561276728149\n",
    "- p-Değeri: 0.33464055961597056\n",
    "- F-İstatistiği: 0.8877154229103197\n",
    "- F-Testinin p-Değeri: 0.3563292233273607\n",
    "\n",
    "Bu sonuçlar, p-değerlerinin 0.05'ten büyük olması nedeniyle, modelin hata terimlerinin varyansının homoskedastik olduğu, yani bağımsız değişkenlerle bir ilişkisinin olmadığı sonucuna varılmasını sağlar. Bu, modelin hata terimleri açısından homoskedastisite varsayımını ihlal etmediği anlamına gelir ve modelin tahminleri üzerinde olumsuz bir etki yaratacak heteroskedastisite sorunu olmadığını gösterir.\n"
   ]
  },
  {
   "cell_type": "markdown",
   "metadata": {},
   "source": [
    " **Sonuç olarak,** elde edilen model çalışan deneyiminin maaş üzerinde önemli bir etkiye sahip olduğunu göstermiştir."
   ]
  }
 ],
 "metadata": {
  "kernelspec": {
   "display_name": "Python 3",
   "language": "python",
   "name": "python3"
  },
  "language_info": {
   "codemirror_mode": {
    "name": "ipython",
    "version": 3
   },
   "file_extension": ".py",
   "mimetype": "text/x-python",
   "name": "python",
   "nbconvert_exporter": "python",
   "pygments_lexer": "ipython3",
   "version": "3.7.1"
  }
 },
 "nbformat": 4,
 "nbformat_minor": 2
}
